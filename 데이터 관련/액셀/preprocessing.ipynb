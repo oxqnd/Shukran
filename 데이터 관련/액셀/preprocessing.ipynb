{
 "cells": [
  {
   "cell_type": "code",
   "execution_count": 2,
   "id": "initial_id",
   "metadata": {
    "collapsed": true,
    "ExecuteTime": {
     "end_time": "2023-11-07T07:20:07.661634900Z",
     "start_time": "2023-11-07T07:20:06.753657800Z"
    }
   },
   "outputs": [],
   "source": [
    "import re\n",
    "import pickle\n",
    "import pandas as pd\n",
    "import networkx as nx"
   ]
  },
  {
   "cell_type": "code",
   "execution_count": 34,
   "outputs": [],
   "source": [
    "with open(\"./원재료_food_data_20231107161425.pkl\", \"rb\") as f:\n",
    "    data = pickle.load(f)\n",
    "    \n",
    "with open(\"./원재료2_food_data_20231107190259.pkl\", \"rb\") as f:\n",
    "    data2 = pickle.load(f)\n",
    "\n",
    "with open(\"./원재료3_food_data_20231107205703.pkl\", \"rb\") as f:\n",
    "    data3 = pickle.load(f)"
   ],
   "metadata": {
    "collapsed": false,
    "ExecuteTime": {
     "end_time": "2023-11-07T23:54:37.540232200Z",
     "start_time": "2023-11-07T23:54:34.926364Z"
    }
   },
   "id": "ed19b23577e65b2f"
  },
  {
   "cell_type": "code",
   "execution_count": 35,
   "outputs": [
    {
     "data": {
      "text/plain": "934407"
     },
     "execution_count": 35,
     "metadata": {},
     "output_type": "execute_result"
    }
   ],
   "source": [
    "len(data) + len(data2) + len(data3)\n"
   ],
   "metadata": {
    "collapsed": false,
    "ExecuteTime": {
     "end_time": "2023-11-07T23:54:37.553401500Z",
     "start_time": "2023-11-07T23:54:37.541216700Z"
    }
   },
   "id": "70f0de858abc51ac"
  },
  {
   "cell_type": "code",
   "execution_count": 36,
   "outputs": [],
   "source": [
    "pattern = r'<[^>]*>'\n",
    "\n",
    "final_data = [{k: re.sub(pattern, '', v) for k, v in i.items()} for i in data] + [{k: re.sub(pattern, '', v) for k, v in i.items()} for i in data2] + [{k: re.sub(pattern, '', v) for k, v in i.items()} for i in data3] \n",
    "#final_data = [{k: re.sub(pattern, '', v) for k, v in i.items()} for i in data3]"
   ],
   "metadata": {
    "collapsed": false,
    "ExecuteTime": {
     "end_time": "2023-11-07T23:55:29.985602100Z",
     "start_time": "2023-11-07T23:55:20.889222Z"
    }
   },
   "id": "ef407cb13dd7f577"
  },
  {
   "cell_type": "code",
   "execution_count": 37,
   "outputs": [],
   "source": [
    "final_df = pd.DataFrame(final_data)"
   ],
   "metadata": {
    "collapsed": false,
    "ExecuteTime": {
     "end_time": "2023-11-07T23:55:30.806257700Z",
     "start_time": "2023-11-07T23:55:29.986601100Z"
    }
   },
   "id": "cc51b9c6f29dc848"
  },
  {
   "cell_type": "code",
   "execution_count": 38,
   "outputs": [
    {
     "data": {
      "text/plain": "       PRDLST_REPORT_NO   PRMS_DT      LCNS_NO                     PRDLST_NM  \\\n0         2011001517149  20141215  20110015171  GLOBE ULTRA DRY(글로브 울트라 드라이)   \n1         1990045801682  20060110  19900458016                      NHY 구운어묵   \n2         1997040105528  20020409  19970401055                      가시오가피 냉면   \n3          201800123203  20180827  20180012320                          공주 밀   \n4          200006190334  20070531  20000619033                         까나리액젓   \n...                 ...       ...          ...                           ...   \n934402   20130304397122  20220930  20130304397                  ？？베이글샌드 블루베리   \n934403   20130304397138  20230602  20130304397                 ？？베이글샌드 카라멜피칸   \n934404    2017063518262  20200625  20170635182                      ？？타르타르소스   \n934405   19630144002150  20131007  19630144002                  ［냉동］수출용어묵속치즈   \n934406     199802630617  20060915  19980263061                                 \n\n                 BSSH_NM PRDLST_DCNM  \\\n0             하이트진로㈜강원공장          맥주   \n1                   명가푸드          어묵   \n2            주식회사 금성에프앤비          숙면   \n3       농업회사법인 공주브루어리(주)          맥주   \n4                   승우식품        조미액젓   \n...                  ...         ...   \n934402              후프후프          빵류   \n934403              후프후프          빵류   \n934404           (주)서해식품          소스   \n934405              미도식품          어묵   \n934406              보경식품         기타엿   \n\n                                               RAWMTRL_NM  \n0       정제수,글루코아밀라아제,알파아밀라아제,효소제(베타글루카나아제),산도조절제(황산칼슘)...  \n1          냉동연육,전분,밀가루,정제염,소르빈산칼륨,글루코노-δ-락톤,L-글루타민산나트륨,설탕  \n2                         밀가루,정제수,타피오카전분,가시오갈피분말,알카리제,정제염  \n3                                                          \n4                                      까나라,식염2,L-글루타민산나트륨  \n...                                                   ...  \n934402  바닐라빈,자연치즈,화이트초콜릿,연유,레드비트분말,자색고구마가루,정제수,빵효모,갈색설...  \n934403          피칸분태,캔디류,자연치즈,연유,정제수,효모,정제소금,갈색설탕,강력분,강력분  \n934404  절임식품,마요네즈,정제수,가공유크림,아세틸아디핀산이전분,백설탕,발효식초,파라옥시안식...  \n934405  D-자일로오스,복합인산염,L-글루타민산나트륨,정제염,대두기름,치즈,밀가루,냉동연육,...  \n934406                                                  엿  \n\n[934407 rows x 7 columns]",
      "text/html": "<div>\n<style scoped>\n    .dataframe tbody tr th:only-of-type {\n        vertical-align: middle;\n    }\n\n    .dataframe tbody tr th {\n        vertical-align: top;\n    }\n\n    .dataframe thead th {\n        text-align: right;\n    }\n</style>\n<table border=\"1\" class=\"dataframe\">\n  <thead>\n    <tr style=\"text-align: right;\">\n      <th></th>\n      <th>PRDLST_REPORT_NO</th>\n      <th>PRMS_DT</th>\n      <th>LCNS_NO</th>\n      <th>PRDLST_NM</th>\n      <th>BSSH_NM</th>\n      <th>PRDLST_DCNM</th>\n      <th>RAWMTRL_NM</th>\n    </tr>\n  </thead>\n  <tbody>\n    <tr>\n      <th>0</th>\n      <td>2011001517149</td>\n      <td>20141215</td>\n      <td>20110015171</td>\n      <td>GLOBE ULTRA DRY(글로브 울트라 드라이)</td>\n      <td>하이트진로㈜강원공장</td>\n      <td>맥주</td>\n      <td>정제수,글루코아밀라아제,알파아밀라아제,효소제(베타글루카나아제),산도조절제(황산칼슘)...</td>\n    </tr>\n    <tr>\n      <th>1</th>\n      <td>1990045801682</td>\n      <td>20060110</td>\n      <td>19900458016</td>\n      <td>NHY 구운어묵</td>\n      <td>명가푸드</td>\n      <td>어묵</td>\n      <td>냉동연육,전분,밀가루,정제염,소르빈산칼륨,글루코노-δ-락톤,L-글루타민산나트륨,설탕</td>\n    </tr>\n    <tr>\n      <th>2</th>\n      <td>1997040105528</td>\n      <td>20020409</td>\n      <td>19970401055</td>\n      <td>가시오가피 냉면</td>\n      <td>주식회사 금성에프앤비</td>\n      <td>숙면</td>\n      <td>밀가루,정제수,타피오카전분,가시오갈피분말,알카리제,정제염</td>\n    </tr>\n    <tr>\n      <th>3</th>\n      <td>201800123203</td>\n      <td>20180827</td>\n      <td>20180012320</td>\n      <td>공주 밀</td>\n      <td>농업회사법인 공주브루어리(주)</td>\n      <td>맥주</td>\n      <td></td>\n    </tr>\n    <tr>\n      <th>4</th>\n      <td>200006190334</td>\n      <td>20070531</td>\n      <td>20000619033</td>\n      <td>까나리액젓</td>\n      <td>승우식품</td>\n      <td>조미액젓</td>\n      <td>까나라,식염2,L-글루타민산나트륨</td>\n    </tr>\n    <tr>\n      <th>...</th>\n      <td>...</td>\n      <td>...</td>\n      <td>...</td>\n      <td>...</td>\n      <td>...</td>\n      <td>...</td>\n      <td>...</td>\n    </tr>\n    <tr>\n      <th>934402</th>\n      <td>20130304397122</td>\n      <td>20220930</td>\n      <td>20130304397</td>\n      <td>？？베이글샌드 블루베리</td>\n      <td>후프후프</td>\n      <td>빵류</td>\n      <td>바닐라빈,자연치즈,화이트초콜릿,연유,레드비트분말,자색고구마가루,정제수,빵효모,갈색설...</td>\n    </tr>\n    <tr>\n      <th>934403</th>\n      <td>20130304397138</td>\n      <td>20230602</td>\n      <td>20130304397</td>\n      <td>？？베이글샌드 카라멜피칸</td>\n      <td>후프후프</td>\n      <td>빵류</td>\n      <td>피칸분태,캔디류,자연치즈,연유,정제수,효모,정제소금,갈색설탕,강력분,강력분</td>\n    </tr>\n    <tr>\n      <th>934404</th>\n      <td>2017063518262</td>\n      <td>20200625</td>\n      <td>20170635182</td>\n      <td>？？타르타르소스</td>\n      <td>(주)서해식품</td>\n      <td>소스</td>\n      <td>절임식품,마요네즈,정제수,가공유크림,아세틸아디핀산이전분,백설탕,발효식초,파라옥시안식...</td>\n    </tr>\n    <tr>\n      <th>934405</th>\n      <td>19630144002150</td>\n      <td>20131007</td>\n      <td>19630144002</td>\n      <td>［냉동］수출용어묵속치즈</td>\n      <td>미도식품</td>\n      <td>어묵</td>\n      <td>D-자일로오스,복합인산염,L-글루타민산나트륨,정제염,대두기름,치즈,밀가루,냉동연육,...</td>\n    </tr>\n    <tr>\n      <th>934406</th>\n      <td>199802630617</td>\n      <td>20060915</td>\n      <td>19980263061</td>\n      <td></td>\n      <td>보경식품</td>\n      <td>기타엿</td>\n      <td>엿</td>\n    </tr>\n  </tbody>\n</table>\n<p>934407 rows × 7 columns</p>\n</div>"
     },
     "execution_count": 38,
     "metadata": {},
     "output_type": "execute_result"
    }
   ],
   "source": [
    "final_df.head(934407)"
   ],
   "metadata": {
    "collapsed": false,
    "ExecuteTime": {
     "end_time": "2023-11-07T23:55:36.480194300Z",
     "start_time": "2023-11-07T23:55:36.462692600Z"
    }
   },
   "id": "43ed85a5662f1a87"
  },
  {
   "cell_type": "code",
   "execution_count": 39,
   "outputs": [],
   "source": [
    "final_df.to_excel('final_output.xlsx', sheet_name='식품데이터', index=False)"
   ],
   "metadata": {
    "collapsed": false,
    "ExecuteTime": {
     "end_time": "2023-11-07T23:58:24.047778400Z",
     "start_time": "2023-11-07T23:55:52.564609Z"
    }
   },
   "id": "bf366e83b70f61fa"
  },
  {
   "cell_type": "code",
   "execution_count": 40,
   "outputs": [],
   "source": [
    "# 엑셀 파일 로드\n",
    "df = pd.read_excel('final_output.xlsx')\n",
    "\n",
    "# 'RAWMTRL_NM' 열에서 '원재료미등록'이라는 텍스트가 포함되어 있거나 비어 있는 셀을 확인하여 해당 행 삭제\n",
    "df = df[df['RAWMTRL_NM'].notna() & (df['RAWMTRL_NM'] != '원재료미등록')]\n",
    "\n",
    "# 중복된 행 제거 (모든 열을 기준으로)\n",
    "df = df.drop_duplicates()\n",
    "\n",
    "# 결과를 새로운 엑셀 파일로 저장\n",
    "df.to_excel('food_final_output.xlsx', index=False)"
   ],
   "metadata": {
    "collapsed": false,
    "ExecuteTime": {
     "end_time": "2023-11-08T01:28:21.658485100Z",
     "start_time": "2023-11-08T01:23:23.580812600Z"
    }
   },
   "id": "f54d535cb7d68b7d"
  },
  {
   "cell_type": "code",
   "execution_count": 41,
   "outputs": [],
   "source": [
    "# 엑셀 파일 로드\n",
    "df = pd.read_excel('food_final_output.xlsx')\n",
    "\n",
    "# 'RAWMTRL_NM' 열에서 '원재료미등록'이라는 텍스트를 포함하는 셀을 찾아 해당 행 삭제\n",
    "# na=False는 NaN 값을 가진 셀을 무시하도록 설정합니다.\n",
    "df = df[~df['RAWMTRL_NM'].str.contains('원재료미등록', na=False)]\n",
    "\n",
    "# 중복된 행 제거 (모든 열을 기준으로)\n",
    "df = df.drop_duplicates()\n",
    "\n",
    "# 결과를 새로운 엑셀 파일로 저장\n",
    "df.to_excel('food_updated_file.xlsx', index=False)"
   ],
   "metadata": {
    "collapsed": false,
    "ExecuteTime": {
     "end_time": "2023-11-08T01:40:40.316833600Z",
     "start_time": "2023-11-08T01:35:47.211461800Z"
    }
   },
   "id": "25f351ffa017de07"
  },
  {
   "cell_type": "code",
   "execution_count": 42,
   "outputs": [],
   "source": [
    "# 엑셀 파일 로드\n",
    "df = pd.read_excel('final_output.xlsx')\n",
    "\n",
    "# 원본 데이터프레임을 복사하여 삭제된 행들을 추출할 때 사용\n",
    "original_df = df.copy()\n",
    "\n",
    "# 'RAWMTRL_NM' 열에서 '원재료 미등록'이라는 텍스트가 포함되어 있거나 비어 있는 셀을 확인하여 해당 행 삭제\n",
    "# 여기에 '원재료미등록' 텍스트가 포함된 경우도 제외\n",
    "df = df[df['RAWMTRL_NM'].notna() & ~df['RAWMTRL_NM'].str.contains('원재료미등록', na=False)]\n",
    "\n",
    "# 중복된 행 제거 전의 데이터프레임 복사본을 만듭니다.\n",
    "df_before_dropping_duplicates = df.copy()\n",
    "\n",
    "# 중복된 행 제거\n",
    "df = df.drop_duplicates()\n",
    "\n",
    "# 삭제된 행들을 찾기 위해 원본 데이터프레임과 비교\n",
    "deleted_rows = original_df.merge(df_before_dropping_duplicates, indicator=True, how='outer')\n",
    "\n",
    "# '원재료 미등록'이라는 텍스트가 포함되어 있거나 비어 있는 셀로 인해 삭제된 행들을 추출\n",
    "deleted_due_to_rawmtrl = deleted_rows[(deleted_rows['_merge'] == 'left_only') & (deleted_rows['RAWMTRL_NM'].isna() | deleted_rows['RAWMTRL_NM'].str.contains('원재료미등록', na=False))]\n",
    "\n",
    "# 중복으로 인해 삭제된 행들을 추출\n",
    "deleted_due_to_duplicates = deleted_rows[(deleted_rows['_merge'] == 'left_only') & ~deleted_rows['RAWMTRL_NM'].str.contains('원재료미등록', na=False) & ~deleted_rows['RAWMTRL_NM'].isna()]\n",
    "\n",
    "# ExcelWriter를 사용하여 같은 엑셀 파일에 다른 시트로 저장\n",
    "with pd.ExcelWriter('deleted_rows.xlsx') as writer:\n",
    "    deleted_due_to_rawmtrl.to_excel(writer, sheet_name='Deleted_RawMtrl', index=False)\n",
    "    deleted_due_to_duplicates.to_excel(writer, sheet_name='Deleted_Duplicates', index=False)\n",
    "\n",
    "# 결과를 새로운 엑셀 파일로 저장\n",
    "df.to_excel('food_final_output.xlsx', index=False)"
   ],
   "metadata": {
    "collapsed": false,
    "ExecuteTime": {
     "end_time": "2023-11-08T05:28:55.320083Z",
     "start_time": "2023-11-08T05:23:13.717710400Z"
    }
   },
   "id": "f979734e17f3d750"
  }
 ],
 "metadata": {
  "kernelspec": {
   "display_name": "Python 3",
   "language": "python",
   "name": "python3"
  },
  "language_info": {
   "codemirror_mode": {
    "name": "ipython",
    "version": 2
   },
   "file_extension": ".py",
   "mimetype": "text/x-python",
   "name": "python",
   "nbconvert_exporter": "python",
   "pygments_lexer": "ipython2",
   "version": "2.7.6"
  }
 },
 "nbformat": 4,
 "nbformat_minor": 5
}
